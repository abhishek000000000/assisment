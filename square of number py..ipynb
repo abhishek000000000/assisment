{
 "cells": [
  {
   "cell_type": "code",
   "execution_count": 29,
   "id": "f8985f57",
   "metadata": {},
   "outputs": [
    {
     "name": "stdout",
     "output_type": "stream",
     "text": [
      "squre of numbers and their sum is 35\n"
     ]
    }
   ],
   "source": [
    "#Challenge 1: Square Numbers and Return Their Sum\n",
    "# Implement a class Point that has three properties and a method. All these attributes (properties and methods) should be public\n",
    "#This problem can be broken down into two tasks\n",
    "#task 1: Implement a constructor to initialize the values of three properties: x, y, and z.\n",
    "#task 2: Implement a method, sqSum(), in the Point class which squares x, y, and z and returns their sum\n",
    "\n",
    "\n",
    "class point:\n",
    "    def __init__(self,x,y,z):\n",
    "        self.x=x\n",
    "        self.y=y\n",
    "        self.z=z\n",
    "        \n",
    "    def sqsum(self):\n",
    "            return self.x**2+self.y**2+self.z**2\n",
    "\n",
    "v=point(1,3,5)\n",
    "print(\"squre of numbers and their sum is\",v.sqsum())\n"
   ]
  }
 ],
 "metadata": {
  "kernelspec": {
   "display_name": "Python 3 (ipykernel)",
   "language": "python",
   "name": "python3"
  },
  "language_info": {
   "codemirror_mode": {
    "name": "ipython",
    "version": 3
   },
   "file_extension": ".py",
   "mimetype": "text/x-python",
   "name": "python",
   "nbconvert_exporter": "python",
   "pygments_lexer": "ipython3",
   "version": "3.9.12"
  }
 },
 "nbformat": 4,
 "nbformat_minor": 5
}
