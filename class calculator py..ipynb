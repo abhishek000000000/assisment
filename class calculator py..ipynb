{
 "cells": [
  {
   "cell_type": "code",
   "execution_count": 37,
   "id": "7733b83b",
   "metadata": {},
   "outputs": [
    {
     "name": "stdout",
     "output_type": "stream",
     "text": [
      "enter the number: 10\n",
      "enter the number: 94\n",
      "104.0\n",
      "84.0\n",
      "940.0\n",
      "9.4\n"
     ]
    }
   ],
   "source": [
    "#Challenge 2: Implement a Calculator Class\n",
    "# In this exercise, you have to implement a calculator that can perform addition, subtraction, multiplication, and division.\n",
    "\n",
    "class calculator:\n",
    "    def __init__(self,num1,num2):\n",
    "        self.num1 = num1\n",
    "        self.num2 = num2\n",
    "    def add(self):\n",
    "        return self.num1+self.num2\n",
    "    def subtract(self):\n",
    "        return self.num2-self.num1\n",
    "    def multiply(self):\n",
    "        return self.num1*self.num2\n",
    "    def divide(self):\n",
    "        return self.num2/self.num1\n",
    "num1=float(input(\"enter the number: \"))\n",
    "num2=float(input(\"enter the number: \"))\n",
    "x=calculator(num1,num2)\n",
    "print(x.add())\n",
    "print(x.subtract())\n",
    "print(x.multiply())\n",
    "print(x.divide())\n"
   ]
  },
  {
   "cell_type": "code",
   "execution_count": null,
   "id": "2ff1d0ae",
   "metadata": {},
   "outputs": [],
   "source": []
  }
 ],
 "metadata": {
  "kernelspec": {
   "display_name": "Python 3 (ipykernel)",
   "language": "python",
   "name": "python3"
  },
  "language_info": {
   "codemirror_mode": {
    "name": "ipython",
    "version": 3
   },
   "file_extension": ".py",
   "mimetype": "text/x-python",
   "name": "python",
   "nbconvert_exporter": "python",
   "pygments_lexer": "ipython3",
   "version": "3.9.12"
  }
 },
 "nbformat": 4,
 "nbformat_minor": 5
}
