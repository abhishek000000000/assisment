{
 "cells": [
  {
   "cell_type": "code",
   "execution_count": 54,
   "id": "cad46dca",
   "metadata": {},
   "outputs": [
    {
     "name": "stdout",
     "output_type": "stream",
     "text": [
      "SmallestNumber in my stack is:  1\n"
     ]
    }
   ],
   "source": [
    "#Write a program to find the smallest number using a stack.\n",
    "\n",
    "my_stack = [1,23,40,677,80,90]\n",
    "minimum = my_stack[5]\n",
    "for i in range(len(my_stack)):\n",
    "    if my_stack[i]< minimum:\n",
    "        minimum = my_stack[i]\n",
    "print(\"SmallestNumber in my stack is: \",minimum)"
   ]
  }
 ],
 "metadata": {
  "kernelspec": {
   "display_name": "Python 3 (ipykernel)",
   "language": "python",
   "name": "python3"
  },
  "language_info": {
   "codemirror_mode": {
    "name": "ipython",
    "version": 3
   },
   "file_extension": ".py",
   "mimetype": "text/x-python",
   "name": "python",
   "nbconvert_exporter": "python",
   "pygments_lexer": "ipython3",
   "version": "3.9.12"
  }
 },
 "nbformat": 4,
 "nbformat_minor": 5
}
