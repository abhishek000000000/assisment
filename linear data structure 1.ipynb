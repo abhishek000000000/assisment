{
 "cells": [
  {
   "cell_type": "code",
   "execution_count": 13,
   "id": "c4827e58",
   "metadata": {},
   "outputs": [
    {
     "name": "stdout",
     "output_type": "stream",
     "text": [
      "1 8\n",
      "2 7\n",
      "3 6\n",
      "4 5\n",
      "\n"
     ]
    }
   ],
   "source": [
    "#Write a program to find all pairs of an integer array whose sum is equal to a given number?\n",
    "\n",
    "def print_pairs(arr,n,sum):\n",
    "    for i in range (0,n):\n",
    "        for j in range(i+1,n):\n",
    "            if (arr[i]+arr[j] ==sum):\n",
    "                print(arr[i],arr[j])\n",
    "    return \"\"\n",
    "arr=[1,2,3,4,5,6,7,8,9]\n",
    "n =len(arr)\n",
    "sum=9\n",
    "print(print_pairs(arr,n,sum))\n",
    "\n"
   ]
  }
 ],
 "metadata": {
  "kernelspec": {
   "display_name": "Python 3 (ipykernel)",
   "language": "python",
   "name": "python3"
  },
  "language_info": {
   "codemirror_mode": {
    "name": "ipython",
    "version": 3
   },
   "file_extension": ".py",
   "mimetype": "text/x-python",
   "name": "python",
   "nbconvert_exporter": "python",
   "pygments_lexer": "ipython3",
   "version": "3.9.12"
  }
 },
 "nbformat": 4,
 "nbformat_minor": 5
}
