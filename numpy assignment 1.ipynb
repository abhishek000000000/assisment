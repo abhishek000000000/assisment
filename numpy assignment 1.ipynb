{
 "cells": [
  {
   "cell_type": "code",
   "execution_count": 11,
   "id": "c5d8e026",
   "metadata": {},
   "outputs": [
    {
     "name": "stdout",
     "output_type": "stream",
     "text": [
      "[0. 0. 0. 0. 0. 1. 0. 0. 0. 0.]\n"
     ]
    }
   ],
   "source": [
    "#Problem : 1\n",
    "#Create a null vector of size 10 but the fifth value which is 1.\n",
    "\n",
    "import numpy as np\n",
    "x = np.zeros(10)\n",
    "x[5] = 1\n",
    "print(x)"
   ]
  },
  {
   "cell_type": "code",
   "execution_count": 12,
   "id": "2bafbe8f",
   "metadata": {},
   "outputs": [
    {
     "name": "stdout",
     "output_type": "stream",
     "text": [
      "[10 11 12 13 14 15 16 17 18 19 20 21 22 23 24 25 26 27 28 29 30 31 32 33\n",
      " 34 35 36 37 38 39 40 41 42 43 44 45 46 47 48 49]\n"
     ]
    }
   ],
   "source": [
    "#Problem : 2\n",
    "#2. Create a vector with values ranging from 10 to 49.\n",
    "\n",
    "import numpy as np\n",
    "v = np.arange(10,50)\n",
    "print(v)"
   ]
  },
  {
   "cell_type": "code",
   "execution_count": 13,
   "id": "e7411add",
   "metadata": {},
   "outputs": [
    {
     "name": "stdout",
     "output_type": "stream",
     "text": [
      "[[0 1 2]\n",
      " [3 4 5]\n",
      " [6 7 8]]\n"
     ]
    }
   ],
   "source": [
    "#Problem : 3\n",
    "#Create a 3x3 matrix with values ranging from 0 to 8\n",
    "\n",
    "import numpy as np\n",
    "x = np.arange(0,9).reshape(3,3)\n",
    "print(x)"
   ]
  },
  {
   "cell_type": "code",
   "execution_count": 14,
   "id": "6cf5da5f",
   "metadata": {},
   "outputs": [
    {
     "name": "stdout",
     "output_type": "stream",
     "text": [
      "Original array:  [1 2 0 0 4 0]\n",
      "Non-Zero Element Indices is: [0 1 4]\n"
     ]
    }
   ],
   "source": [
    "#Problem : 4\n",
    "#Find indices of non-zero elements from [1,2,0,0,4,0]\n",
    "\n",
    "nums = np.array([1,2,0,0,4,0])\n",
    "print(\"Original array: \", nums)\n",
    "result = np.where(nums !=0)[0]\n",
    "print(\"Non-Zero Element Indices is:\",result)"
   ]
  },
  {
   "cell_type": "code",
   "execution_count": 9,
   "id": "f32eb1da",
   "metadata": {},
   "outputs": [
    {
     "name": "stdout",
     "output_type": "stream",
     "text": [
      "[[0.96587518 0.00296321 0.08819563 0.49129105 0.90984286 0.07551262\n",
      "  0.95018473 0.85638746 0.28925261 0.45711562]\n",
      " [0.36297486 0.32278439 0.92579639 0.75782362 0.07236863 0.05530242\n",
      "  0.3776014  0.76671658 0.21485446 0.08025376]\n",
      " [0.47945193 0.2385953  0.87853868 0.5245969  0.3089557  0.73380762\n",
      "  0.9237408  0.27260225 0.13321053 0.76725808]\n",
      " [0.74535933 0.12937876 0.21856143 0.02671981 0.3342093  0.28651325\n",
      "  0.24407231 0.36677817 0.19102099 0.44700039]\n",
      " [0.21496626 0.48510353 0.65861009 0.07273828 0.72698626 0.96392818\n",
      "  0.84933612 0.29777554 0.94366223 0.13196964]\n",
      " [0.44743943 0.93429553 0.0215881  0.67555061 0.70281456 0.11180801\n",
      "  0.86554142 0.53310199 0.58682192 0.21639838]\n",
      " [0.75271495 0.81627743 0.61831913 0.19663594 0.03163602 0.34641741\n",
      "  0.78501221 0.78561058 0.03456652 0.31109679]\n",
      " [0.57204757 0.13652046 0.47726085 0.19039662 0.78084169 0.63718505\n",
      "  0.47403315 0.06591055 0.26997019 0.60702541]\n",
      " [0.16999118 0.37968763 0.17140088 0.33163955 0.30606334 0.44153754\n",
      "  0.8446879  0.40159737 0.88513203 0.44052605]\n",
      " [0.84147251 0.28709008 0.14337343 0.28748101 0.70578223 0.13237799\n",
      "  0.44592523 0.74463755 0.48763409 0.30765186]]\n",
      "Minimum Value is:  0.0029632133977808284\n",
      "Maximum Value is:  0.9658751827098191\n"
     ]
    }
   ],
   "source": [
    "#Problem : 5\n",
    "#Create a 10x10 array with random values and find the minimum and maximum values.\n",
    "\n",
    "x = np.random.random((10,10))\n",
    "print(x)\n",
    "xmin,xmax = x.min(), x.max()\n",
    "print(\"Minimum Value is: \",xmin)\n",
    "print(\"Maximum Value is: \",xmax)"
   ]
  },
  {
   "cell_type": "code",
   "execution_count": 15,
   "id": "ddfed8f9",
   "metadata": {},
   "outputs": [
    {
     "name": "stdout",
     "output_type": "stream",
     "text": [
      "[0.52789724 0.0559434  0.67442143 0.24389689 0.28653425 0.36226977\n",
      " 0.57373838 0.69109498 0.25301142 0.72146769 0.20604972 0.15410489\n",
      " 0.8763577  0.06868525 0.41964671 0.10461251 0.71027865 0.80749758\n",
      " 0.38757112 0.78051619 0.08900343 0.73155725 0.4834261  0.29414951\n",
      " 0.89106964 0.62332626 0.6327474  0.09103831 0.14792474 0.22930619]\n",
      "Mean Value is:  0.4373048199757783\n"
     ]
    }
   ],
   "source": [
    "#Problem : 6\n",
    "#Create a random vector of size 30 and find the mean value.\n",
    "\n",
    "z = np.random.random((30))\n",
    "print(z)\n",
    "m = z.mean()\n",
    "print(\"Mean Value is: \",m)"
   ]
  }
 ],
 "metadata": {
  "kernelspec": {
   "display_name": "Python 3 (ipykernel)",
   "language": "python",
   "name": "python3"
  },
  "language_info": {
   "codemirror_mode": {
    "name": "ipython",
    "version": 3
   },
   "file_extension": ".py",
   "mimetype": "text/x-python",
   "name": "python",
   "nbconvert_exporter": "python",
   "pygments_lexer": "ipython3",
   "version": "3.9.12"
  }
 },
 "nbformat": 4,
 "nbformat_minor": 5
}
