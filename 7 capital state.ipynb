{
 "cells": [
  {
   "cell_type": "code",
   "execution_count": 2,
   "id": "14ffcdc4",
   "metadata": {},
   "outputs": [
    {
     "name": "stdout",
     "output_type": "stream",
     "text": [
      "json is completed\n",
      "{'Maharastra': 'Mumbai', 'Bihar': 'Patna', 'Kolkata': 'Udisha', 'Tamilnadu': 'Chennai', 'Punjab': 'Chandigarh', 'Gujarat': 'Gandhinagar', 'Hyderabad': 'Telangana'}\n"
     ]
    }
   ],
   "source": [
    "#ASSIGNMENT 1:CHALLENGE 2\n",
    "#Create a dictionary of any 7 Indian states and their capitals. Write this into a JSON file.\n",
    "import json\n",
    "\n",
    "name ={\"Maharastra\":\"Mumbai\",\"Bihar\":\"Patna\",\"Kolkata\":\"Udisha\",\"Tamilnadu\":\"Chennai\",\"Punjab\":\"Chandigarh\",\"Gujarat\":\"Gandhinagar\",\"Hyderabad\":\"Telangana\"}\n",
    "with open (\"json_name.json\",\"w\") as f:\n",
    "    json.dump(name,f)\n",
    "print(\"json is completed\")\n",
    "print(name)"
   ]
  },
  {
   "cell_type": "code",
   "execution_count": null,
   "id": "28dddc16",
   "metadata": {},
   "outputs": [],
   "source": []
  }
 ],
 "metadata": {
  "kernelspec": {
   "display_name": "Python 3 (ipykernel)",
   "language": "python",
   "name": "python3"
  },
  "language_info": {
   "codemirror_mode": {
    "name": "ipython",
    "version": 3
   },
   "file_extension": ".py",
   "mimetype": "text/x-python",
   "name": "python",
   "nbconvert_exporter": "python",
   "pygments_lexer": "ipython3",
   "version": "3.9.12"
  }
 },
 "nbformat": 4,
 "nbformat_minor": 5
}
