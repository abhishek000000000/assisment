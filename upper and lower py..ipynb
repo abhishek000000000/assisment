{
 "cells": [
  {
   "cell_type": "code",
   "execution_count": 4,
   "id": "d0facc16",
   "metadata": {},
   "outputs": [
    {
     "name": "stdout",
     "output_type": "stream",
     "text": [
      "enter the string: The quick Brow Fox\n",
      "no of upper case character:  3\n",
      "no of lower case character:  12\n"
     ]
    }
   ],
   "source": [
    "#Write a Python function that accepts a string and calculate the number of upper case letters and lower case letters.\n",
    "string1=input(\"enter the string: \")\n",
    "upper=0\n",
    "lower=0\n",
    "special=0\n",
    "for char in string1:\n",
    "    if (char==\" \"):\n",
    "        special=special*0\n",
    "    elif char.isupper():\n",
    "        upper=upper+1\n",
    "    elif char.islower():\n",
    "        lower=lower+1\n",
    "print(\"no of upper case character: \",upper)\n",
    "print(\"no of lower case character: \",lower)\n"
   ]
  },
  {
   "cell_type": "code",
   "execution_count": null,
   "id": "3973e0ec",
   "metadata": {},
   "outputs": [],
   "source": []
  }
 ],
 "metadata": {
  "kernelspec": {
   "display_name": "Python 3 (ipykernel)",
   "language": "python",
   "name": "python3"
  },
  "language_info": {
   "codemirror_mode": {
    "name": "ipython",
    "version": 3
   },
   "file_extension": ".py",
   "mimetype": "text/x-python",
   "name": "python",
   "nbconvert_exporter": "python",
   "pygments_lexer": "ipython3",
   "version": "3.9.12"
  }
 },
 "nbformat": 4,
 "nbformat_minor": 5
}
