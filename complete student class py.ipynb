{
 "cells": [
  {
   "cell_type": "code",
   "execution_count": 48,
   "id": "fee9ecc1",
   "metadata": {},
   "outputs": [
    {
     "name": "stdout",
     "output_type": "stream",
     "text": [
      "name:  abhishek kanojia\n",
      "Rollno:  5\n"
     ]
    }
   ],
   "source": [
    "#Challenge 3: Implement the Complete Student Class\n",
    "\n",
    "\n",
    "class student:\n",
    "    def setName(self,n):\n",
    "        self.__name = n\n",
    "    def getName(self):\n",
    "        return self.__name\n",
    "        \n",
    "    def setRollno(self,m):\n",
    "        self.__rollno = m\n",
    "    def getRollno(self):\n",
    "        return self.__rollno\n",
    "    def Disply(self):\n",
    "        print(\"name: \",self.__name)\n",
    "        print(\"Rollno: \",self.__rollno)\n",
    "                \n",
    "s = student()\n",
    "s.setName(\"abhishek kanojia\")\n",
    "s.setRollno(5)\n",
    "s.Disply()\n",
    "\n"
   ]
  }
 ],
 "metadata": {
  "kernelspec": {
   "display_name": "Python 3 (ipykernel)",
   "language": "python",
   "name": "python3"
  },
  "language_info": {
   "codemirror_mode": {
    "name": "ipython",
    "version": 3
   },
   "file_extension": ".py",
   "mimetype": "text/x-python",
   "name": "python",
   "nbconvert_exporter": "python",
   "pygments_lexer": "ipython3",
   "version": "3.9.12"
  }
 },
 "nbformat": 4,
 "nbformat_minor": 5
}
