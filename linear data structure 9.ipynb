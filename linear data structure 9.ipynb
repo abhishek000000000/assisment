{
 "cells": [
  {
   "cell_type": "code",
   "execution_count": 17,
   "id": "e3222fff",
   "metadata": {},
   "outputs": [
    {
     "name": "stdout",
     "output_type": "stream",
     "text": [
      " kehsihba\n"
     ]
    }
   ],
   "source": [
    "#Write a program to reverse a stack.\n",
    "\n",
    "class Stack(object):\n",
    "    def __init__(self):\n",
    "        self.items = []\n",
    "    def push(self,item):\n",
    "        self.items.append(item)\n",
    "    def pop(self):\n",
    "        if self.items ==[]:\n",
    "            return None\n",
    "        else:\n",
    "            return self.items.pop()\n",
    "    def size(self):\n",
    "        return len(self.items)\n",
    "    def isempty(self):\n",
    "        return self.items ==[]\n",
    "                    \n",
    "                    \n",
    "                    \n",
    "def reverse(str):\n",
    "    temstr = \" \"\n",
    "    stack = Stack()\n",
    "    for i in range(len(str)):\n",
    "        stack.push(str[i])\n",
    "        \n",
    "    while not stack.isempty():\n",
    "        tem = stack.pop()\n",
    "        temstr =temstr + tem\n",
    "        \n",
    "    return temstr\n",
    "if __name__== \"__main__\":\n",
    "    print(reverse(\"abhishek\"))\n",
    "    "
   ]
  }
 ],
 "metadata": {
  "kernelspec": {
   "display_name": "Python 3 (ipykernel)",
   "language": "python",
   "name": "python3"
  },
  "language_info": {
   "codemirror_mode": {
    "name": "ipython",
    "version": 3
   },
   "file_extension": ".py",
   "mimetype": "text/x-python",
   "name": "python",
   "nbconvert_exporter": "python",
   "pygments_lexer": "ipython3",
   "version": "3.9.12"
  }
 },
 "nbformat": 4,
 "nbformat_minor": 5
}
