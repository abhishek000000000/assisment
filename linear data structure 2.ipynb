{
 "cells": [
  {
   "cell_type": "code",
   "execution_count": 15,
   "id": "7a4496e3",
   "metadata": {},
   "outputs": [
    {
     "name": "stdout",
     "output_type": "stream",
     "text": [
      "Before Reversing List is:  [1, 2, 3, 4, 5, 6, 7, 8]\n",
      "After Reversing List is:  [8, 7, 6, 5, 4, 3, 2, 1]\n",
      " \n"
     ]
    }
   ],
   "source": [
    "#Write a program to reverse an array in place? In place means you cannot create a new array. You have to update the original array.\n",
    "\n",
    "def reverse():\n",
    "    list1=[1,2,3,4,5,6,7,8]\n",
    "    print(\"Before Reversing List is: \",list1)\n",
    "    list1.reverse()\n",
    "    print(\"After Reversing List is: \",list1)\n",
    "    return \" \"\n",
    "print(reverse())\n"
   ]
  },
  {
   "cell_type": "code",
   "execution_count": null,
   "id": "cfe249a6",
   "metadata": {},
   "outputs": [],
   "source": []
  }
 ],
 "metadata": {
  "kernelspec": {
   "display_name": "Python 3 (ipykernel)",
   "language": "python",
   "name": "python3"
  },
  "language_info": {
   "codemirror_mode": {
    "name": "ipython",
    "version": 3
   },
   "file_extension": ".py",
   "mimetype": "text/x-python",
   "name": "python",
   "nbconvert_exporter": "python",
   "pygments_lexer": "ipython3",
   "version": "3.9.12"
  }
 },
 "nbformat": 4,
 "nbformat_minor": 5
}
