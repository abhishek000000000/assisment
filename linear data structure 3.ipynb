{
 "cells": [
  {
   "cell_type": "code",
   "execution_count": 16,
   "id": "03109d6e",
   "metadata": {},
   "outputs": [
    {
     "data": {
      "text/plain": [
       "True"
      ]
     },
     "execution_count": 16,
     "metadata": {},
     "output_type": "execute_result"
    }
   ],
   "source": [
    "#Write a program to check if two strings are a rotation of each other?)\n",
    "\n",
    "def rotation(s1,s2):\n",
    "    if len(s1) !=len(s2):\n",
    "        return False\n",
    "    s3=s1+s1\n",
    "    if s2 in s3:\n",
    "        return True\n",
    "    else:\n",
    "        return False\n",
    "s1=\"helloworld\"\n",
    "s2=\"worldhello\"\n",
    "rotation(s1,s2)\n",
    "    \n"
   ]
  },
  {
   "cell_type": "code",
   "execution_count": null,
   "id": "6427f728",
   "metadata": {},
   "outputs": [],
   "source": []
  }
 ],
 "metadata": {
  "kernelspec": {
   "display_name": "Python 3 (ipykernel)",
   "language": "python",
   "name": "python3"
  },
  "language_info": {
   "codemirror_mode": {
    "name": "ipython",
    "version": 3
   },
   "file_extension": ".py",
   "mimetype": "text/x-python",
   "name": "python",
   "nbconvert_exporter": "python",
   "pygments_lexer": "ipython3",
   "version": "3.9.12"
  }
 },
 "nbformat": 4,
 "nbformat_minor": 5
}
