{
 "cells": [
  {
   "cell_type": "code",
   "execution_count": 3,
   "metadata": {},
   "outputs": [
    {
     "name": "stdout",
     "output_type": "stream",
     "text": [
      "Valid Triangle\n",
      "Valid Rectangle\n"
     ]
    }
   ],
   "source": [
    "# Python Candidates -\n",
    "# ﻿Your task is to complete the validate_triangle and validate_rectangle functions \n",
    "# for the classes.Hint for validating is given in the comments of the code. \n",
    "# Also you will have to print the following after validation in respective functions:-\n",
    "\n",
    "# 1.Invalid Triangle: If the triangle sum property of sides \n",
    "# is not valid(More hint in the comments of code)\n",
    "\n",
    "# 2.Valid Triangle:If the triangle sum property of sides is valid.\n",
    "\n",
    "# 3.Valid Rectangle:If 2 side pairs are same and they are input in correct order like l,b,l,b\n",
    "\n",
    "# 4.Invalid Rectangle: If Not Valid rectangle as stated above.\n",
    "\n",
    "# Input Format:\n",
    "\n",
    "# The side length of triangle followed by for rectangle in the next line in order.\n",
    "\n",
    "# Output Format:\n",
    "\n",
    "# since object are created in order, so first validate info about triangle will come and than rectangle.\n",
    "\n",
    "# Sample Input 0:\n",
    "\n",
    "# 3 4 5\n",
    "\n",
    "# 2 4 2 4\n",
    "\n",
    "# Sample Output 0:\n",
    "\n",
    "# Valid Triangle\n",
    "\n",
    "# Valid Rectangle\n",
    "\n",
    "class Triangle:\n",
    "    def __init__(self,a,b,c):\n",
    "        self.a = a\n",
    "        self.b = b\n",
    "        self.c = c\n",
    "\n",
    "\n",
    "    def validate_triangle(self):\n",
    "        if (self.a+self.b)>self.c and (self.b+self.c)>self.a and (self.c+self.a)>self.b:\n",
    "            \n",
    "            return 'Valid Triangle'\n",
    "        \n",
    "        return 'Invalid Triangle'\n",
    "    \n",
    "\n",
    "class Rectangle:\n",
    "    def __init__(self,l1,b1,l2,b2):\n",
    "        self.l1 = l1\n",
    "        self.b1 = b1\n",
    "        self.l2 = l2\n",
    "        self.b2 = b2\n",
    "\n",
    "    def validate_rectangle(self):\n",
    "        if self.l1 == self.l2 and self.b1 == self.b2:\n",
    "            \n",
    "            return 'Valid Rectangle'\n",
    "        return 'Invalid Rectangle'\n",
    "\n",
    "t = Triangle(3,4,5)\n",
    "print(t.validate_triangle())\n",
    "r = Rectangle(2,4,2,4)\n",
    "print(r.validate_rectangle())"
   ]
  },
  {
   "cell_type": "code",
   "execution_count": 15,
   "metadata": {},
   "outputs": [
    {
     "name": "stdout",
     "output_type": "stream",
     "text": [
      "Valid Triangle\n",
      "Valid Rectangle\n"
     ]
    }
   ],
   "source": [
    "# SECOND APPROACH\n",
    "\n",
    "class checkValidity:\n",
    "    def __init__(self,a,b,c,d):\n",
    "        self.a = a\n",
    "        self.b = b\n",
    "        self.c = c\n",
    "        self.d = d\n",
    "    def Triangle(self,a,b,c):\n",
    "        \n",
    "        if ( self.a + self.b ) > self.c or ( self.a + self.c ) > self.b or ( self.b + self.c ) > self.a:\n",
    "            return \"Valid Triangle\"\n",
    "            \n",
    "        else:\n",
    "            return \"Invalid Triangle\"\n",
    "            \n",
    "    def Rectangle(self,a,b,c,d):\n",
    "        \n",
    "        if (self.a == self.b and self.d == self.c) or (self.a == self.c and self.b == self.d) or (self.a == self.d and self.b == self.c):\n",
    "            return \"Valid Rectangle\"\n",
    "            \n",
    "        else:\n",
    "            return \"Invalid Rectangle\"\n",
    "            \n",
    "\n",
    "\n",
    "\n",
    "c=checkValidity(2,4,2,4)\n",
    "print(c.Triangle(3,4,5))\n",
    "print(c.Rectangle(2,4,2,4))"
   ]
  }
 ],
 "metadata": {
  "kernelspec": {
   "display_name": "Python 3",
   "language": "python",
   "name": "python3"
  },
  "language_info": {
   "codemirror_mode": {
    "name": "ipython",
    "version": 3
   },
   "file_extension": ".py",
   "mimetype": "text/x-python",
   "name": "python",
   "nbconvert_exporter": "python",
   "pygments_lexer": "ipython3",
   "version": "3.10.7"
  },
  "orig_nbformat": 4,
  "vscode": {
   "interpreter": {
    "hash": "aef80b6ac783f7042fbfc7f7228212085612e82dbe6ac48db8c348140cb084f4"
   }
  }
 },
 "nbformat": 4,
 "nbformat_minor": 2
}
