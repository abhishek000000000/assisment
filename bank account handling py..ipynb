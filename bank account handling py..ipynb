{
 "cells": [
  {
   "cell_type": "code",
   "execution_count": 7,
   "id": "2a6cf7f9",
   "metadata": {},
   "outputs": [
    {
     "name": "stdout",
     "output_type": "stream",
     "text": [
      "after deposit your balance is:  2500\n",
      "after withdrawal your balance is: 1500\n",
      "your intrest amount is:  100\n"
     ]
    }
   ],
   "source": [
    "#Challenge 5: Handling a Bank Account\n",
    "class Account:\n",
    "    def __init__(self,title=None,balance=0):\n",
    "        self.title=title\n",
    "        self.balance=balance\n",
    "    def deposit(self,amount):\n",
    "        self.balance=self.balance+amount\n",
    "        print(\"after deposit your balance is: \",self.balance)\n",
    "    def withdraw(self,amount):\n",
    "        self.balance=self.balance-amount\n",
    "        print(\"after withdrawal your balance is:\",self.balance)\n",
    "    def get_balance(self):\n",
    "        return self.balance\n",
    "            \n",
    "class savingAccount(Account):\n",
    "    def __init__(self,title=None,balance=0,intrestrate=0):\n",
    "        super().__init__(title,balance)\n",
    "        self.intrestrate = intrestrate\n",
    "    def intrestAmount(self):\n",
    "        return(self.balance*self.intrestrate)//100\n",
    "\n",
    "    \n",
    "            \n",
    "Ad=savingAccount(\"asish\",2000)\n",
    "Ad.deposit(500)\n",
    "Ad.get_balance()\n",
    "Aw=savingAccount(\"Asish\",2000)\n",
    "Aw.withdraw(500)\n",
    "Aw.get_balance()\n",
    "si=savingAccount(\"Asish\",2000,5)\n",
    "print(\"your intrest amount is: \",si.intrestAmount())\n"
   ]
  }
 ],
 "metadata": {
  "kernelspec": {
   "display_name": "Python 3 (ipykernel)",
   "language": "python",
   "name": "python3"
  },
  "language_info": {
   "codemirror_mode": {
    "name": "ipython",
    "version": 3
   },
   "file_extension": ".py",
   "mimetype": "text/x-python",
   "name": "python",
   "nbconvert_exporter": "python",
   "pygments_lexer": "ipython3",
   "version": "3.9.12"
  }
 },
 "nbformat": 4,
 "nbformat_minor": 5
}
