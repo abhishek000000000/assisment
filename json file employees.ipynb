{
 "cells": [
  {
   "cell_type": "code",
   "execution_count": 51,
   "id": "c1760e04",
   "metadata": {},
   "outputs": [
    {
     "name": "stdout",
     "output_type": "stream",
     "text": [
      "Employees detailes is completed\n",
      "1 {'Name': 'abhishek kanojia', 'DOB': '17.01.1998', 'Height': '5.5', 'City': 'Thane', 'State': 'Maharastra'}\n",
      "2 {'Name': 'Mahendra patel', 'DOB': '05.05.1996', 'Height': '5.4', 'City': 'Navi mumbai', 'State': 'Maharastra'}\n",
      "3 {'Name': 'Hari pal', 'DOB': '28.03.1997', 'Height': '5.8', 'city': 'Navi mumbai', 'State': 'Maharastra'}\n",
      "4 {'Name': 'Harprit kaul', 'DOB': '22.08.1999', 'Height': '5.3', 'city': 'Chandigah', 'State': 'Punjab'}\n",
      "5 {'Name': 'Aniket kanojia', 'DOB': '06.05.1995', 'Height': '5.7', 'City': 'Thane', 'State': 'Maharastra'}\n"
     ]
    }
   ],
   "source": [
    "#ASSIGNMENT 1 CHALLENGE 1\n",
    "#Create a JSON file (employee.json) containing employee information of minimum 5 employees. Each employee information consists of Name, DOB, Height, City, State. Write a python program that reads this information from the JSON file and saves the information into a list of objects of Employee class. Finally print the list of the Employee objects.\n",
    "\n",
    "\n",
    "import json\n",
    "\n",
    "Employees={1:{\"Name\":\"abhishek kanojia\",\"DOB\":\"17.01.1998\",\"Height\":\"5.5\",\"City\":\"Thane\",\"State\":\"Maharastra\"},\n",
    "        2:{\"Name\":\"Mahendra patel\",\"DOB\":\"05.05.1996\",\"Height\":\"5.4\",\"City\":\"Navi mumbai\",\"State\":\"Maharastra\"},\n",
    "        3:{\"Name\":\"Hari pal\",\"DOB\":\"28.03.1997\",\"Height\":\"5.8\",\"city\":\"Navi mumbai\",\"State\":\"Maharastra\"},\n",
    "        4:{\"Name\":\"Harprit kaul\",\"DOB\":\"22.08.1999\",\"Height\":\"5.3\",\"city\":\"Chandigah\",\"State\":\"Punjab\"},\n",
    "        5:{\"Name\":\"Aniket kanojia\",\"DOB\":\"06.05.1995\",\"Height\":\"5.7\",\"City\":\"Thane\",\"State\":\"Maharastra\"}}\n",
    "        \n",
    "with open (\"json_Employees.json\",\"w\") as f:\n",
    "    json.dump(Employees,f)\n",
    "print(\"Employees detailes is completed\")\n",
    "for k, v in Employees.items():\n",
    "    print(k, v)\n",
    "    \n",
    "\n",
    "    "
   ]
  },
  {
   "cell_type": "code",
   "execution_count": null,
   "id": "380ebe9f",
   "metadata": {},
   "outputs": [],
   "source": []
  }
 ],
 "metadata": {
  "kernelspec": {
   "display_name": "Python 3 (ipykernel)",
   "language": "python",
   "name": "python3"
  },
  "language_info": {
   "codemirror_mode": {
    "name": "ipython",
    "version": 3
   },
   "file_extension": ".py",
   "mimetype": "text/x-python",
   "name": "python",
   "nbconvert_exporter": "python",
   "pygments_lexer": "ipython3",
   "version": "3.9.12"
  }
 },
 "nbformat": 4,
 "nbformat_minor": 5
}
