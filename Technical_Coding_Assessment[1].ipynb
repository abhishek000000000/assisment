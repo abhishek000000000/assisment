{
 "cells": [
  {
   "cell_type": "code",
   "execution_count": 8,
   "metadata": {},
   "outputs": [
    {
     "name": "stdout",
     "output_type": "stream",
     "text": [
      "['great', 'abc', 'hello', 'hiyo']\n"
     ]
    }
   ],
   "source": [
    "# Python Candidates - Question 1\n",
    "\n",
    "# You will have a number of elements and in the next n lines element of a list. You have to create a list from the given strings. You have to sort the list based on 2nd last character of a string.\n",
    "\n",
    "# For example: given list = ['great','hello','hiyo','abc'] so your output_dictionary should be ['great', 'abc', 'hello','hiyo']\n",
    "\n",
    "# Input Format:\n",
    "\n",
    "# At first-line it will have an integer (number of elements inside a list). In the second line, it will have a string.\n",
    "\n",
    "# Output Format:\n",
    "\n",
    "# A single line containing a sorted list.\n",
    "# first approach\n",
    "\n",
    "\n",
    "def sl(a):\n",
    "    return a[-2]\n",
    "\n",
    "n = int(input())\n",
    "a = [input() for i in range(n)]\n",
    "a_sort = sorted(a,key=sl)\n",
    "print(a_sort)\n",
    "        \n",
    "        "
   ]
  },
  {
   "cell_type": "code",
   "execution_count": 9,
   "metadata": {},
   "outputs": [
    {
     "name": "stdout",
     "output_type": "stream",
     "text": [
      "['great', 'abc', 'hello', 'hiyo']\n"
     ]
    }
   ],
   "source": [
    "# second approach\n",
    "n = int(input())\n",
    "a = [input() for i in range(n)]\n",
    "a.sort(key=lambda x:x[-2])\n",
    "print(a)\n"
   ]
  },
  {
   "cell_type": "code",
   "execution_count": 7,
   "metadata": {},
   "outputs": [
    {
     "name": "stdout",
     "output_type": "stream",
     "text": [
      "['great', 'abc', 'hello', 'hiyo']\n"
     ]
    }
   ],
   "source": [
    "# Third approach\n",
    "n = int(input())\n",
    "a = [input() for i in range(n)]\n",
    "for i in a:\n",
    "    a.sort(key = lambda i:i[-2])\n",
    "print(a)\n"
   ]
  }
 ],
 "metadata": {
  "kernelspec": {
   "display_name": "Python 3",
   "language": "python",
   "name": "python3"
  },
  "language_info": {
   "codemirror_mode": {
    "name": "ipython",
    "version": 3
   },
   "file_extension": ".py",
   "mimetype": "text/x-python",
   "name": "python",
   "nbconvert_exporter": "python",
   "pygments_lexer": "ipython3",
   "version": "3.10.7"
  },
  "orig_nbformat": 4,
  "vscode": {
   "interpreter": {
    "hash": "3ffbf0abc1ab77b078092e586942f471caceca6a6a6c676a4d26e0d52144ddd1"
   }
  }
 },
 "nbformat": 4,
 "nbformat_minor": 2
}
