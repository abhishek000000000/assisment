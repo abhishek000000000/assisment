{
 "cells": [
  {
   "cell_type": "code",
   "execution_count": 9,
   "id": "d059cff7",
   "metadata": {},
   "outputs": [
    {
     "name": "stdout",
     "output_type": "stream",
     "text": [
      "Name of the dog is:  jack\n",
      "Age of the dog is:  13 to 15\n",
      "Coat color of the dog is:  white and black\n",
      "Energy level of the dog is:  high\n",
      "Tendency to bark is:  high\n",
      "----------------------------------------------------------------------------------------------------------------------------------------------------------------\n",
      "Name of the dog is:  Bulldog\n",
      "Age of the dog is:  8 to 10\n",
      "Coat color of the dog is:  white\n",
      "Height of the dog in inches is:  14 to 15\n",
      "Weight of the dog in pounds is:  40 to 50\n"
     ]
    }
   ],
   "source": [
    "#ASSIGNMENT 2\n",
    "#Create a class named ‘Dog’. It should have a constructor which accepts its name, age and coat color. You must perform the following operations:\n",
    "class Dog:\n",
    "    def __init__(self,name,age,coat_color):\n",
    "        self.name = name\n",
    "        self.age = age\n",
    "        self.coat_color = coat_color\n",
    "    def description (self):\n",
    "        print(\"Name of the dog is: \",self.name)\n",
    "        print(\"Age of the dog is: \",self.age)\n",
    "    def get_info (self):\n",
    "        print(\"Coat color of the dog is: \",self.coat_color)\n",
    "class jackRussellTerrier(Dog):\n",
    "    def __init__(self,name,age,coat_color,energy_level,tendency_to_bark):\n",
    "        super().__init__(name,age,coat_color)\n",
    "        super().description()\n",
    "        super().get_info()\n",
    "        self.energy_level = energy_level\n",
    "        self.tendency_to_bark = tendency_to_bark\n",
    "        print(\"Energy level of the dog is: \",self.energy_level)\n",
    "        print(\"Tendency to bark is: \",self.tendency_to_bark)\n",
    "class Bulldog(Dog):\n",
    "    def __init__(self,name,age,coat_color,height,weight):\n",
    "        super().__init__(name,age,coat_color)\n",
    "        super().description()\n",
    "        super().get_info()\n",
    "        self.height = height\n",
    "        self.weight = weight\n",
    "        print(\"Height of the dog in inches is: \",self.height)\n",
    "        print(\"Weight of the dog in pounds is: \",self.weight)\n",
    "j=jackRussellTerrier(\"jack\",\"13 to 15\",\"white and black\",\"high\",\"high\")\n",
    "print(\"----------------------------------------------------------------------------------------------------------------------------------------------------------------\")\n",
    "B=Bulldog(\"Bulldog\",\"8 to 10\",\"white\",\"14 to 15\",\"40 to 50\")\n"
   ]
  },
  {
   "cell_type": "code",
   "execution_count": null,
   "id": "faa53489",
   "metadata": {},
   "outputs": [],
   "source": []
  }
 ],
 "metadata": {
  "kernelspec": {
   "display_name": "Python 3 (ipykernel)",
   "language": "python",
   "name": "python3"
  },
  "language_info": {
   "codemirror_mode": {
    "name": "ipython",
    "version": 3
   },
   "file_extension": ".py",
   "mimetype": "text/x-python",
   "name": "python",
   "nbconvert_exporter": "python",
   "pygments_lexer": "ipython3",
   "version": "3.9.12"
  }
 },
 "nbformat": 4,
 "nbformat_minor": 5
}
