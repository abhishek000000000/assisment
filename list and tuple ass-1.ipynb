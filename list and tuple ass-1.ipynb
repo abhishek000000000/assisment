{
 "cells": [
  {
   "cell_type": "code",
   "execution_count": 10,
   "id": "fef46cb7",
   "metadata": {},
   "outputs": [
    {
     "name": "stdout",
     "output_type": "stream",
     "text": [
      "50\n",
      "sorted:\n",
      "[(3, 1), (2, 1), (3, 1), (4, 1), (6, 1), (7, 1), (1, 2), (2, 2), (3, 2), (4, 2), (6, 2), (7, 2), (1, 3), (2, 3), (3, 3), (4, 3), (6, 3), (7, 3), (1, 4), (2, 4), (3, 4), (4, 4), (6, 4), (7, 4), (2, 5), (1, 5), (2, 5), (3, 5), (4, 5), (6, 5), (1, 6), (2, 6), (3, 6), (4, 6), (6, 6), (1, 7), (2, 7), (3, 7), (4, 7), (6, 7), (1, 8), (2, 8), (3, 8), (4, 8), (6, 8), (1, 9), (2, 9), (3, 9), (4, 9), (6, 9)]\n"
     ]
    }
   ],
   "source": [
    "#write python program to get a list,\n",
    "#sorted in increasing order by last element in each tuple from a given list of non-empty tuple.\n",
    "def last(n):\n",
    "    return n[-1]\n",
    "def sort(a):\n",
    "    return sorted(a,key=last)\n",
    "a=[(2,5),(3,1),(1,2),(1,3),(1,4),(1,5),(1,6),(1,7),(1,8),(1,9),(2,1),(2,2),(2,3),(2,4),(2,5),(2,6),(2,7),(2,8),(2,9),\n",
    "   (3,1),(3,2),(3,3),(3,4),(3,5),(3,6),(3,7),(3,8),(3,9),(4,1),(4,2),(4,3),(4,4),(4,5),(4,6),(4,7),(4,8),(4,9),(6,1),\n",
    "   (6,2),(6,3),(6,4),(6,5),(6,6),(6,7),(6,8),(6,9),(7,1),(7,2),(7,3),(7,4)] \n",
    "print(len(a))\n",
    "print(\"sorted:\")\n",
    "print(sort(a))"
   ]
  }
 ],
 "metadata": {
  "kernelspec": {
   "display_name": "Python 3 (ipykernel)",
   "language": "python",
   "name": "python3"
  },
  "language_info": {
   "codemirror_mode": {
    "name": "ipython",
    "version": 3
   },
   "file_extension": ".py",
   "mimetype": "text/x-python",
   "name": "python",
   "nbconvert_exporter": "python",
   "pygments_lexer": "ipython3",
   "version": "3.9.12"
  }
 },
 "nbformat": 4,
 "nbformat_minor": 5
}
