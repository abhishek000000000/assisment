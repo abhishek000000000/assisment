{
 "cells": [
  {
   "cell_type": "code",
   "execution_count": 29,
   "id": "960c2d43",
   "metadata": {},
   "outputs": [
    {
     "name": "stdout",
     "output_type": "stream",
     "text": [
      "v\n",
      "None\n"
     ]
    }
   ],
   "source": [
    "#Write a program to print the first non-repeated character from a string?\n",
    "\n",
    "def Non_repeating(str):\n",
    "    dict={}\n",
    "    size=len(str)\n",
    "    for i in range(size):\n",
    "        key=str[i]\n",
    "    if key not in dict:\n",
    "        dict[key]=1\n",
    "    else:\n",
    "        dict[key]=dict[key]+1\n",
    "    for key,value in dict.items():\n",
    "        if(value==1):\n",
    "            print(key)\n",
    "        break\n",
    "print(Non_repeating(\"abcdabcdv\"))\n",
    "                        "
   ]
  },
  {
   "cell_type": "code",
   "execution_count": null,
   "id": "60a274dc",
   "metadata": {},
   "outputs": [],
   "source": []
  },
  {
   "cell_type": "code",
   "execution_count": null,
   "id": "b3256076",
   "metadata": {},
   "outputs": [],
   "source": []
  }
 ],
 "metadata": {
  "kernelspec": {
   "display_name": "Python 3 (ipykernel)",
   "language": "python",
   "name": "python3"
  },
  "language_info": {
   "codemirror_mode": {
    "name": "ipython",
    "version": 3
   },
   "file_extension": ".py",
   "mimetype": "text/x-python",
   "name": "python",
   "nbconvert_exporter": "python",
   "pygments_lexer": "ipython3",
   "version": "3.9.12"
  }
 },
 "nbformat": 4,
 "nbformat_minor": 5
}
