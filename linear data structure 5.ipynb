{
 "cells": [
  {
   "cell_type": "code",
   "execution_count": 1,
   "id": "5ed4231b",
   "metadata": {},
   "outputs": [
    {
     "name": "stdout",
     "output_type": "stream",
     "text": [
      "Move disk 1 from road A to rod c\n",
      "Move disk 2 from rod A to rod B\n",
      "Move disk 1 from road c to rod B\n",
      "Move disk 3 from rod A to rod c\n",
      "Move disk 1 from road B to rod A\n",
      "Move disk 2 from rod B to rod c\n",
      "Move disk 1 from road A to rod c\n"
     ]
    }
   ],
   "source": [
    "#Read about the Tower of Hanoi algorithm. Write a program to implement it.\n",
    "\n",
    "def TOH(numbers,start,aux,end):\n",
    "    if numbers==1:\n",
    "        print(\"Move disk 1 from road {} to rod {}\".format(start,end))\n",
    "        return\n",
    "    TOH(numbers-1,start,end,aux)\n",
    "    print(\"Move disk {} from rod {} to rod {}\".format(numbers,start,end))\n",
    "    TOH(numbers-1,aux,start,end)\n",
    "disc=3\n",
    "TOH(disc,\"A\",\"B\",\"c\")\n",
    "\n"
   ]
  }
 ],
 "metadata": {
  "kernelspec": {
   "display_name": "Python 3 (ipykernel)",
   "language": "python",
   "name": "python3"
  },
  "language_info": {
   "codemirror_mode": {
    "name": "ipython",
    "version": 3
   },
   "file_extension": ".py",
   "mimetype": "text/x-python",
   "name": "python",
   "nbconvert_exporter": "python",
   "pygments_lexer": "ipython3",
   "version": "3.9.12"
  }
 },
 "nbformat": 4,
 "nbformat_minor": 5
}
