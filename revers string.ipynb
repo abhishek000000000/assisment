{
 "cells": [
  {
   "cell_type": "code",
   "execution_count": 19,
   "id": "b7eb0926",
   "metadata": {},
   "outputs": [
    {
     "name": "stdout",
     "output_type": "stream",
     "text": [
      "enter the string: \"1234abcd\"\n",
      "\"dcba4321\"\n"
     ]
    }
   ],
   "source": [
    "#Write a Python program to reverse a string.\n",
    "\n",
    "def reverse(string):\n",
    "    string1=string[::-1]\n",
    "    return string1\n",
    "string=input(\"enter the string: \")\n",
    "print(reverse(string))"
   ]
  }
 ],
 "metadata": {
  "kernelspec": {
   "display_name": "Python 3 (ipykernel)",
   "language": "python",
   "name": "python3"
  },
  "language_info": {
   "codemirror_mode": {
    "name": "ipython",
    "version": 3
   },
   "file_extension": ".py",
   "mimetype": "text/x-python",
   "name": "python",
   "nbconvert_exporter": "python",
   "pygments_lexer": "ipython3",
   "version": "3.9.12"
  }
 },
 "nbformat": 4,
 "nbformat_minor": 5
}
